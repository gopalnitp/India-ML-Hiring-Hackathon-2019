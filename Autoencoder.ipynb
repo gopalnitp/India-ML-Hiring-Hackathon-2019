{
 "cells": [
  {
   "cell_type": "code",
   "execution_count": 1,
   "metadata": {},
   "outputs": [],
   "source": [
    "import pandas as pd\n",
    "import numpy as np\n",
    "import seaborn as sns\n",
    "import matplotlib.pyplot as plt\n",
    "from sklearn import preprocessing\n",
    "from sklearn.model_selection import train_test_split"
   ]
  },
  {
   "cell_type": "code",
   "execution_count": 2,
   "metadata": {},
   "outputs": [],
   "source": [
    "import category_encoders as ce"
   ]
  },
  {
   "cell_type": "code",
   "execution_count": 109,
   "metadata": {},
   "outputs": [],
   "source": [
    "import pandas as pd\n",
    "import numpy as np\n",
    "import pickle\n",
    "import matplotlib.pyplot as plt\n",
    "from scipy import stats\n",
    "import tensorflow as tf\n",
    "import seaborn as sns\n",
    "from pylab import rcParams\n",
    "from sklearn.model_selection import train_test_split\n",
    "from keras.models import Model, load_model\n",
    "from keras.layers import Input, Dense\n",
    "from keras.callbacks import ModelCheckpoint, TensorBoard\n",
    "from keras import regularizers"
   ]
  },
  {
   "cell_type": "code",
   "execution_count": 9,
   "metadata": {},
   "outputs": [],
   "source": [
    "data=pd.read_csv('train.csv')"
   ]
  },
  {
   "cell_type": "code",
   "execution_count": 10,
   "metadata": {},
   "outputs": [
    {
     "name": "stdout",
     "output_type": "stream",
     "text": [
      "('total deliquent', 636)\n",
      "('total non deliquent', 115422)\n",
      "('% data deliquent ', 0.5480018611383963)\n",
      "('% data non deliquent ', 99.45199813886161)\n",
      "('deliquent par non deliquent', 0.005510214690440297)\n"
     ]
    }
   ],
   "source": [
    "print(\"total deliquent\",np.count_nonzero(data.m13))\n",
    "print(\"total non deliquent\",data.shape[0]-np.count_nonzero(data.m13))\n",
    "\n",
    "print(\"% data deliquent \",np.count_nonzero(data.m13)/float(data.shape[0])*100)\n",
    "\n",
    "print(\"% data non deliquent \",(data.shape[0]-np.count_nonzero(data.m13))/float(data.shape[0])*100)\n",
    "\n",
    "print(\"deliquent par non deliquent\",np.count_nonzero(data.m13)/float(data.shape[0]-np.count_nonzero(data.m13)))\n"
   ]
  },
  {
   "cell_type": "code",
   "execution_count": 8,
   "metadata": {},
   "outputs": [],
   "source": [
    "#data=data.drop(columns=['loan_id','first_payment_date','origination_date'])"
   ]
  },
  {
   "cell_type": "code",
   "execution_count": 316,
   "metadata": {},
   "outputs": [],
   "source": [
    "# sns.boxplot(data.interest_rate)"
   ]
  },
  {
   "cell_type": "code",
   "execution_count": 94,
   "metadata": {},
   "outputs": [],
   "source": [
    "# data=data[data['interest_rate']<5].reset_index(drop=True)\n",
    "# data=data[data['interest_rate']>2.75].reset_index(drop=True) # we cant remove outlayer we loss 100 sample of 1"
   ]
  },
  {
   "cell_type": "code",
   "execution_count": 96,
   "metadata": {},
   "outputs": [],
   "source": [
    "# data=data[data['unpaid_principal_bal']<500000].reset_index(drop=True) ## we can remove outlayer"
   ]
  },
  {
   "cell_type": "code",
   "execution_count": 97,
   "metadata": {},
   "outputs": [],
   "source": [
    "# data=data[data['loan_to_value']>20].reset_index(drop=True) ## we can remove outlayer"
   ]
  },
  {
   "cell_type": "code",
   "execution_count": 98,
   "metadata": {},
   "outputs": [],
   "source": [
    "# data=data[data['borrower_credit_score']>700].reset_index(drop=True) ## we can remove outlayer"
   ]
  },
  {
   "cell_type": "code",
   "execution_count": 360,
   "metadata": {},
   "outputs": [
    {
     "data": {
      "text/plain": [
       "(116058, 26)"
      ]
     },
     "execution_count": 360,
     "metadata": {},
     "output_type": "execute_result"
    }
   ],
   "source": [
    "data.shape"
   ]
  },
  {
   "cell_type": "code",
   "execution_count": 6,
   "metadata": {},
   "outputs": [],
   "source": [
    "cateogrical_columns=['financial_institution',\n",
    " 'first_payment_date','loan_id',\n",
    " 'loan_purpose',\n",
    " 'origination_date',\n",
    " 'source']"
   ]
  },
  {
   "cell_type": "code",
   "execution_count": 361,
   "metadata": {},
   "outputs": [],
   "source": [
    "one=ce.OneHotEncoder(handle_unknown=\"ignore\",use_cat_names=True)\n",
    "x_one=one.fit_transform(data)"
   ]
  },
  {
   "cell_type": "code",
   "execution_count": 11,
   "metadata": {},
   "outputs": [],
   "source": [
    "data=data.drop(columns=cateogrical_columns)"
   ]
  },
  {
   "cell_type": "code",
   "execution_count": 107,
   "metadata": {},
   "outputs": [],
   "source": [
    "X_train, X_test = train_test_split(data, test_size=0.1, random_state=142)"
   ]
  },
  {
   "cell_type": "code",
   "execution_count": 108,
   "metadata": {},
   "outputs": [],
   "source": [
    "X_train=X_train[X_train['m13']==0]\n",
    "X_train=X_train.drop(columns=['m13'])"
   ]
  },
  {
   "cell_type": "code",
   "execution_count": 110,
   "metadata": {},
   "outputs": [],
   "source": [
    "input_dim = X_train.shape[1]\n",
    "encoding_dim = 10"
   ]
  },
  {
   "cell_type": "code",
   "execution_count": 111,
   "metadata": {},
   "outputs": [],
   "source": [
    "input_layer = Input(shape=(input_dim, ))\n",
    "\n",
    "encoder = Dense(encoding_dim, activation=\"tanh\", \n",
    "                activity_regularizer=regularizers.l1(10e-5))(input_layer)\n",
    "encoder = Dense(int(10), activation=\"relu\")(encoder)\n",
    "\n",
    "\n",
    "decoder = Dense(input_dim, activation='relu')(encoder)\n",
    "\n",
    "autoencoder = Model(inputs=input_layer, outputs=decoder)"
   ]
  },
  {
   "cell_type": "code",
   "execution_count": 112,
   "metadata": {},
   "outputs": [
    {
     "name": "stdout",
     "output_type": "stream",
     "text": [
      "_________________________________________________________________\n",
      "Layer (type)                 Output Shape              Param #   \n",
      "=================================================================\n",
      "input_5 (InputLayer)         (None, 22)                0         \n",
      "_________________________________________________________________\n",
      "dense_13 (Dense)             (None, 10)                230       \n",
      "_________________________________________________________________\n",
      "dense_14 (Dense)             (None, 10)                110       \n",
      "_________________________________________________________________\n",
      "dense_15 (Dense)             (None, 22)                242       \n",
      "=================================================================\n",
      "Total params: 582\n",
      "Trainable params: 582\n",
      "Non-trainable params: 0\n",
      "_________________________________________________________________\n"
     ]
    }
   ],
   "source": [
    "autoencoder.summary()"
   ]
  },
  {
   "cell_type": "code",
   "execution_count": 113,
   "metadata": {},
   "outputs": [],
   "source": [
    "from sklearn import preprocessing"
   ]
  },
  {
   "cell_type": "code",
   "execution_count": 114,
   "metadata": {},
   "outputs": [],
   "source": [
    "mean=X_train.mean()\n",
    "std=X_train.std()\n",
    "XX_train=(X_train-mean)/std"
   ]
  },
  {
   "cell_type": "code",
   "execution_count": 115,
   "metadata": {},
   "outputs": [],
   "source": [
    "XX_train=(X_train-mean)/std"
   ]
  },
  {
   "cell_type": "code",
   "execution_count": 116,
   "metadata": {},
   "outputs": [
    {
     "data": {
      "text/plain": [
       "(103885, 22)"
      ]
     },
     "execution_count": 116,
     "metadata": {},
     "output_type": "execute_result"
    }
   ],
   "source": [
    "XX_train.shape"
   ]
  },
  {
   "cell_type": "code",
   "execution_count": 117,
   "metadata": {},
   "outputs": [],
   "source": [
    "from keras.callbacks import ModelCheckpoint,EarlyStopping,ReduceLROnPlateau"
   ]
  },
  {
   "cell_type": "code",
   "execution_count": 118,
   "metadata": {},
   "outputs": [],
   "source": [
    "# from keras import backend as K\n",
    "\n",
    "# def root_mean_squared_error(y_true, y_pred):\n",
    "#         return K.sqrt(K.mean(K.square(y_pred - y_true), axis=-1)) "
   ]
  },
  {
   "cell_type": "code",
   "execution_count": 119,
   "metadata": {},
   "outputs": [
    {
     "name": "stdout",
     "output_type": "stream",
     "text": [
      "Train on 83108 samples, validate on 20777 samples\n",
      "Epoch 1/50\n",
      "83108/83108 [==============================] - 3s 41us/step - loss: 0.8347 - acc: 0.6654 - val_loss: 0.6752 - val_acc: 0.8443\n",
      "Epoch 2/50\n",
      "83108/83108 [==============================] - 3s 40us/step - loss: 0.7146 - acc: 0.8628 - val_loss: 0.6055 - val_acc: 0.8756\n",
      "Epoch 3/50\n",
      "83108/83108 [==============================] - 3s 40us/step - loss: 0.6617 - acc: 0.8789 - val_loss: 0.5644 - val_acc: 0.8881\n",
      "Epoch 4/50\n",
      "83108/83108 [==============================] - 4s 42us/step - loss: 0.6212 - acc: 0.8815 - val_loss: 0.5362 - val_acc: 0.8798\n",
      "Epoch 5/50\n",
      "83108/83108 [==============================] - 3s 40us/step - loss: 0.5957 - acc: 0.8828 - val_loss: 0.5163 - val_acc: 0.8908\n",
      "Epoch 6/50\n",
      "83108/83108 [==============================] - 3s 41us/step - loss: 0.5816 - acc: 0.8824 - val_loss: 0.5099 - val_acc: 0.8941\n",
      "Epoch 7/50\n",
      "83108/83108 [==============================] - 3s 42us/step - loss: 0.5694 - acc: 0.8858 - val_loss: 0.5073 - val_acc: 0.8818\n",
      "Epoch 8/50\n",
      "83108/83108 [==============================] - 4s 42us/step - loss: 0.5562 - acc: 0.8837 - val_loss: 0.4997 - val_acc: 0.8893\n",
      "Epoch 9/50\n",
      "83108/83108 [==============================] - 4s 43us/step - loss: 0.5471 - acc: 0.8828 - val_loss: 0.4999 - val_acc: 0.8886\n",
      "Epoch 10/50\n",
      "83108/83108 [==============================] - 4s 42us/step - loss: 0.5382 - acc: 0.8828 - val_loss: 0.5016 - val_acc: 0.8696\n",
      "\n",
      "Epoch 00010: ReduceLROnPlateau reducing learning rate to 0.000700000033248.\n",
      "Epoch 11/50\n",
      "83108/83108 [==============================] - 4s 44us/step - loss: 0.5297 - acc: 0.8883 - val_loss: 0.4992 - val_acc: 0.8922\n",
      "Epoch 12/50\n",
      "83108/83108 [==============================] - 3s 42us/step - loss: 0.5372 - acc: 0.8838 - val_loss: 0.5055 - val_acc: 0.8852\n",
      "Epoch 13/50\n",
      "83108/83108 [==============================] - 4s 43us/step - loss: 0.5277 - acc: 0.8860 - val_loss: 0.5002 - val_acc: 0.8851\n",
      "\n",
      "Epoch 00013: ReduceLROnPlateau reducing learning rate to 0.000490000023274.\n",
      "Epoch 14/50\n",
      "83108/83108 [==============================] - 4s 45us/step - loss: 0.5217 - acc: 0.8893 - val_loss: 0.4922 - val_acc: 0.8974\n",
      "Epoch 15/50\n",
      "83108/83108 [==============================] - 4s 44us/step - loss: 0.5178 - acc: 0.8883 - val_loss: 0.4971 - val_acc: 0.8974\n",
      "Epoch 16/50\n",
      "83108/83108 [==============================] - 4s 44us/step - loss: 0.5230 - acc: 0.8886 - val_loss: 0.4981 - val_acc: 0.8939\n",
      "\n",
      "Epoch 00016: ReduceLROnPlateau reducing learning rate to 0.000343000004068.\n",
      "Epoch 17/50\n",
      "83108/83108 [==============================] - 4s 44us/step - loss: 0.5167 - acc: 0.8925 - val_loss: 0.4936 - val_acc: 0.8957\n",
      "Epoch 18/50\n",
      "83108/83108 [==============================] - 4s 43us/step - loss: 0.5158 - acc: 0.8915 - val_loss: 0.4927 - val_acc: 0.8977\n",
      "\n",
      "Epoch 00018: ReduceLROnPlateau reducing learning rate to 0.000240099994699.\n",
      "Epoch 19/50\n",
      "83108/83108 [==============================] - 4s 44us/step - loss: 0.5127 - acc: 0.8943 - val_loss: 0.4947 - val_acc: 0.8970\n",
      "Epoch 20/50\n",
      "83108/83108 [==============================] - 4s 45us/step - loss: 0.5108 - acc: 0.8934 - val_loss: 0.4918 - val_acc: 0.8981\n",
      "Epoch 21/50\n",
      "83108/83108 [==============================] - 4s 47us/step - loss: 0.5091 - acc: 0.8938 - val_loss: 0.4921 - val_acc: 0.8969\n",
      "Epoch 22/50\n",
      "83108/83108 [==============================] - 4s 47us/step - loss: 0.5091 - acc: 0.8926 - val_loss: 0.4955 - val_acc: 0.9001\n",
      "\n",
      "Epoch 00022: ReduceLROnPlateau reducing learning rate to 0.000168069996289.\n",
      "Epoch 23/50\n",
      "83108/83108 [==============================] - 3s 41us/step - loss: 0.5070 - acc: 0.8973 - val_loss: 0.4928 - val_acc: 0.8961\n",
      "Epoch 24/50\n",
      "83108/83108 [==============================] - 4s 42us/step - loss: 0.5087 - acc: 0.8965 - val_loss: 0.4927 - val_acc: 0.8975\n",
      "\n",
      "Epoch 00024: ReduceLROnPlateau reducing learning rate to 0.000117648995365.\n",
      "Epoch 25/50\n",
      "83108/83108 [==============================] - 3s 42us/step - loss: 0.5057 - acc: 0.8971 - val_loss: 0.4930 - val_acc: 0.8884\n",
      "Epoch 26/50\n",
      "83108/83108 [==============================] - 4s 44us/step - loss: 0.5047 - acc: 0.8969 - val_loss: 0.4933 - val_acc: 0.8958\n",
      "\n",
      "Epoch 00026: ReduceLROnPlateau reducing learning rate to 8.23542977741e-05.\n",
      "Epoch 27/50\n",
      "83108/83108 [==============================] - 4s 44us/step - loss: 0.5040 - acc: 0.8983 - val_loss: 0.4928 - val_acc: 0.8969\n",
      "Epoch 28/50\n",
      "83108/83108 [==============================] - 4s 43us/step - loss: 0.5035 - acc: 0.8982 - val_loss: 0.4912 - val_acc: 0.8981\n",
      "Epoch 29/50\n",
      "83108/83108 [==============================] - 3s 42us/step - loss: 0.5041 - acc: 0.8991 - val_loss: 0.4914 - val_acc: 0.8999\n",
      "Epoch 30/50\n",
      "83108/83108 [==============================] - 4s 42us/step - loss: 0.5027 - acc: 0.8982 - val_loss: 0.4923 - val_acc: 0.8970\n",
      "\n",
      "Epoch 00030: ReduceLROnPlateau reducing learning rate to 5.76480058953e-05.\n",
      "Epoch 31/50\n",
      "83108/83108 [==============================] - 3s 38us/step - loss: 0.5021 - acc: 0.8984 - val_loss: 0.4922 - val_acc: 0.8959\n",
      "Epoch 32/50\n",
      "83108/83108 [==============================] - 3s 38us/step - loss: 0.5025 - acc: 0.8988 - val_loss: 0.4916 - val_acc: 0.8975\n",
      "\n",
      "Epoch 00032: ReduceLROnPlateau reducing learning rate to 4.03536036174e-05.\n",
      "Epoch 33/50\n",
      "83108/83108 [==============================] - 3s 38us/step - loss: 0.5021 - acc: 0.8999 - val_loss: 0.4916 - val_acc: 0.9002\n",
      "Epoch 34/50\n",
      "83108/83108 [==============================] - 3s 38us/step - loss: 0.5016 - acc: 0.8996 - val_loss: 0.4918 - val_acc: 0.8992\n",
      "\n",
      "Epoch 00034: ReduceLROnPlateau reducing learning rate to 2.82475222775e-05.\n",
      "Epoch 35/50\n",
      "83108/83108 [==============================] - 3s 38us/step - loss: 0.5008 - acc: 0.9005 - val_loss: 0.4917 - val_acc: 0.9031\n",
      "Epoch 36/50\n",
      "83108/83108 [==============================] - 3s 38us/step - loss: 0.5012 - acc: 0.9003 - val_loss: 0.4914 - val_acc: 0.9000\n",
      "\n",
      "Epoch 00036: ReduceLROnPlateau reducing learning rate to 1.97732661036e-05.\n",
      "Epoch 00036: early stopping\n"
     ]
    }
   ],
   "source": [
    "nb_epoch = 50\n",
    "batch_size = 32\n",
    "\n",
    "autoencoder.compile(optimizer='adam', \n",
    "                    loss='mean_squared_error', \n",
    "                    metrics=['accuracy'])\n",
    "earlystopper = EarlyStopping(patience=8, verbose=1)\n",
    "\n",
    "reduce_lr = ReduceLROnPlateau(monitor='val_loss', factor=0.7,\n",
    "                              patience=2, min_lr=0.00001, verbose=1)\n",
    "\n",
    "\n",
    "checkpointer = ModelCheckpoint(filepath=\"model.h5\",\n",
    "                               verbose=0,\n",
    "                               save_best_only=True)\n",
    "tensorboard = TensorBoard(log_dir='./logs',\n",
    "                          histogram_freq=0,\n",
    "                          write_graph=True,\n",
    "                          write_images=True)\n",
    "\n",
    "history = autoencoder.fit(XX_train,XX_train,\n",
    "                    epochs=nb_epoch,\n",
    "                    batch_size=batch_size,\n",
    "                    shuffle=True,\n",
    "                    validation_split=0.2,\n",
    "                    verbose=1,\n",
    "                    callbacks=[checkpointer, tensorboard,reduce_lr,earlystopper]).history"
   ]
  },
  {
   "cell_type": "code",
   "execution_count": 252,
   "metadata": {},
   "outputs": [
    {
     "data": {
      "image/png": "[encoded data removed]",
      "text/plain": [
       "<Figure size 432x288 with 1 Axes>"
      ]
     },
     "metadata": {},
     "output_type": "display_data"
    }
   ],
   "source": [
    "plt.plot(history['loss'])\n",
    "plt.plot(history['val_loss'])\n",
    "plt.title('model loss')\n",
    "plt.ylabel('loss')\n",
    "plt.xlabel('epoch')\n",
    "plt.legend(['train', 'test'], loc='upper right');"
   ]
  },
  {
   "cell_type": "code",
   "execution_count": 463,
   "metadata": {},
   "outputs": [],
   "source": [
    "# autoencoder = load_model('model.h5')"
   ]
  },
  {
   "cell_type": "code",
   "execution_count": 121,
   "metadata": {},
   "outputs": [],
   "source": [
    "target=X_test['m13']\n",
    "X_test1=X_test.drop(columns='m13')"
   ]
  },
  {
   "cell_type": "code",
   "execution_count": 122,
   "metadata": {},
   "outputs": [],
   "source": [
    "mean1=X_test1.mean()\n",
    "std1=X_test1.std()\n",
    "X_test1=(X_test1-mean1)/std1"
   ]
  },
  {
   "cell_type": "code",
   "execution_count": 123,
   "metadata": {},
   "outputs": [],
   "source": [
    "predictions = autoencoder.predict(X_test1)"
   ]
  },
  {
   "cell_type": "code",
   "execution_count": 124,
   "metadata": {},
   "outputs": [],
   "source": [
    "mse = np.mean(np.power(X_test1 - predictions, 2), axis=1)\n",
    "error_df = pd.DataFrame({'reconstruction_error': mse,\n",
    "                        'true_class': X_test['m13']})"
   ]
  },
  {
   "cell_type": "code",
   "execution_count": 125,
   "metadata": {},
   "outputs": [],
   "source": [
    "xx=error_df[error_df['true_class']==1]"
   ]
  },
  {
   "cell_type": "code",
   "execution_count": 126,
   "metadata": {},
   "outputs": [
    {
     "data": {
      "text/plain": [
       "<matplotlib.axes._subplots.AxesSubplot at 0x7fd55c16a550>"
      ]
     },
     "execution_count": 126,
     "metadata": {},
     "output_type": "execute_result"
    },
    {
     "data": {
      "image/png": "[encoded data removed]",
      "text/plain": [
       "<Figure size 432x288 with 1 Axes>"
      ]
     },
     "metadata": {},
     "output_type": "display_data"
    }
   ],
   "source": [
    "sns.distplot(xx['reconstruction_error'])"
   ]
  },
  {
   "cell_type": "code",
   "execution_count": 379,
   "metadata": {},
   "outputs": [],
   "source": [
    "#error_df[error_df['true_class']==0]"
   ]
  },
  {
   "cell_type": "code",
   "execution_count": 248,
   "metadata": {},
   "outputs": [],
   "source": [
    "# fig = plt.figure()\n",
    "# ax = fig.add_subplot(111)\n",
    "# normal_error_df = error_df[(error_df['true_class']== 0)]\n",
    "# _ = ax.hist(normal_error_df.reconstruction_error.values, bins=10)"
   ]
  },
  {
   "cell_type": "code",
   "execution_count": 247,
   "metadata": {},
   "outputs": [],
   "source": [
    "# fig = plt.figure()\n",
    "# ax = fig.add_subplot(111)\n",
    "# normal_error_df = error_df[(error_df['true_class']== 1)]\n",
    "# _ = ax.hist(normal_error_df.reconstruction_error.values, bins=10)"
   ]
  },
  {
   "cell_type": "code",
   "execution_count": 139,
   "metadata": {},
   "outputs": [],
   "source": [
    "ax.hist?"
   ]
  },
  {
   "cell_type": "code",
   "execution_count": 61,
   "metadata": {},
   "outputs": [],
   "source": [
    "from sklearn.metrics import (confusion_matrix, precision_recall_curve, auc,\n",
    "                             roc_curve, recall_score, classification_report, f1_score,\n",
    "                             precision_recall_fscore_support)"
   ]
  },
  {
   "cell_type": "code",
   "execution_count": 129,
   "metadata": {},
   "outputs": [
    {
     "data": {
      "image/png": "[encoded data removed]",
      "text/plain": [
       "<Figure size 432x288 with 1 Axes>"
      ]
     },
     "metadata": {},
     "output_type": "display_data"
    }
   ],
   "source": [
    "fpr, tpr, thresholds = roc_curve(error_df.true_class, error_df.reconstruction_error)\n",
    "roc_auc = auc(fpr, tpr)\n",
    "\n",
    "plt.title('Receiver Operating Characteristic')\n",
    "plt.plot(fpr, tpr, label='AUC = %0.4f'% roc_auc)\n",
    "plt.legend(loc='lower right')\n",
    "plt.plot([0,1],[0,1],'r--')\n",
    "plt.xlim([-0.001, 1])\n",
    "plt.ylim([0, 1.001])\n",
    "plt.ylabel('True Positive Rate')\n",
    "plt.xlabel('False Positive Rate')\n",
    "plt.show();"
   ]
  },
  {
   "cell_type": "code",
   "execution_count": 254,
   "metadata": {},
   "outputs": [],
   "source": [
    "# precision, recall, th = precision_recall_curve(error_df.true_class, error_df.reconstruction_error)\n",
    "# plt.plot(recall, precision, 'b', label='Precision-Recall curve')\n",
    "# plt.title('Recall vs Precision')\n",
    "# plt.xlabel('Recall')\n",
    "# plt.ylabel('Precision')\n",
    "# plt.show()"
   ]
  },
  {
   "cell_type": "code",
   "execution_count": 253,
   "metadata": {},
   "outputs": [],
   "source": [
    "# plt.plot(th, precision[1:], 'b', label='Threshold-Precision curve')\n",
    "# plt.title('Precision for different threshold values')\n",
    "# plt.xlabel('Threshold')\n",
    "# plt.ylabel('Precision')\n",
    "# plt.show()"
   ]
  },
  {
   "cell_type": "code",
   "execution_count": 132,
   "metadata": {},
   "outputs": [
    {
     "data": {
      "image/png": "[encoded data removed]",
      "text/plain": [
       "<Figure size 432x288 with 1 Axes>"
      ]
     },
     "metadata": {},
     "output_type": "display_data"
    }
   ],
   "source": [
    "plt.plot(th, recall[1:], 'b', label='Threshold-Recall curve')\n",
    "plt.title('Recall for different threshold values')\n",
    "plt.xlabel('Reconstruction error')\n",
    "plt.ylabel('Recall')\n",
    "plt.show()"
   ]
  },
  {
   "cell_type": "code",
   "execution_count": 260,
   "metadata": {},
   "outputs": [],
   "source": [
    "thr=15.2789"
   ]
  },
  {
   "cell_type": "code",
   "execution_count": 261,
   "metadata": {},
   "outputs": [
    {
     "data": {
      "image/png": "[encoded data removed]",
      "text/plain": [
       "<Figure size 432x288 with 1 Axes>"
      ]
     },
     "metadata": {},
     "output_type": "display_data"
    }
   ],
   "source": [
    "groups = error_df.groupby('true_class')\n",
    "fig, ax = plt.subplots()\n",
    "\n",
    "for name, group in groups:\n",
    "    ax.plot(group.index, group.reconstruction_error, marker='o', ms=3.5, linestyle='',\n",
    "            label= \"Fraud\" if name == 1 else \"Normal\")\n",
    "ax.hlines(thr, ax.get_xlim()[0], ax.get_xlim()[1], colors=\"r\", zorder=100, label='Threshold')\n",
    "ax.legend()\n",
    "plt.title(\"Reconstruction error for different classes\")\n",
    "plt.ylabel(\"Reconstruction error\")\n",
    "plt.xlabel(\"Data point index\")\n",
    "plt.show();"
   ]
  },
  {
   "cell_type": "code",
   "execution_count": 262,
   "metadata": {},
   "outputs": [
    {
     "data": {
      "image/png": "[encoded data removed]",
      "text/plain": [
       "<Figure size 864x864 with 2 Axes>"
      ]
     },
     "metadata": {},
     "output_type": "display_data"
    }
   ],
   "source": [
    "y_pred = [1 if e > thr else 0 for e in error_df.reconstruction_error.values]\n",
    "conf_matrix = confusion_matrix(error_df.true_class, y_pred)\n",
    "\n",
    "plt.figure(figsize=(12, 12))\n",
    "sns.heatmap(conf_matrix ,annot=True, fmt=\"d\");\n",
    "plt.title(\"Confusion matrix\")\n",
    "plt.ylabel('True class')\n",
    "plt.xlabel('Predicted class')\n",
    "plt.show()"
   ]
  },
  {
   "cell_type": "code",
   "execution_count": 263,
   "metadata": {},
   "outputs": [
    {
     "name": "stdout",
     "output_type": "stream",
     "text": [
      "              precision    recall  f1-score   support\n",
      "\n",
      "           0       1.00      1.00      1.00     11537\n",
      "           1       0.32      0.33      0.33        69\n",
      "\n",
      "   micro avg       0.99      0.99      0.99     11606\n",
      "   macro avg       0.66      0.66      0.66     11606\n",
      "weighted avg       0.99      0.99      0.99     11606\n",
      "\n"
     ]
    }
   ],
   "source": [
    "print(classification_report(error_df.true_class, y_pred))"
   ]
  },
  {
   "cell_type": "code",
   "execution_count": 233,
   "metadata": {},
   "outputs": [],
   "source": [
    "TEST=pd.read_csv(\"test.csv\")\n",
    "Test=TEST.drop(columns=cateogrical_columns)"
   ]
  },
  {
   "cell_type": "code",
   "execution_count": 235,
   "metadata": {},
   "outputs": [],
   "source": [
    "mean1=Test.mean()\n",
    "std1=Test.std()\n",
    "Test=(Test-mean1)/std1"
   ]
  },
  {
   "cell_type": "code",
   "execution_count": 236,
   "metadata": {},
   "outputs": [],
   "source": [
    "predictions1 = autoencoder.predict(Test)"
   ]
  },
  {
   "cell_type": "code",
   "execution_count": 241,
   "metadata": {},
   "outputs": [],
   "source": [
    "mse = np.mean(np.power(Test - predictions1, 2), axis=1)\n",
    "error_df1 = pd.DataFrame({'reconstruction_error': mse})"
   ]
  },
  {
   "cell_type": "code",
   "execution_count": 242,
   "metadata": {},
   "outputs": [],
   "source": [
    "error_df1.reconstruction_error[error_df1.reconstruction_error<=thr]=0\n",
    "error_df1.reconstruction_error[error_df1.reconstruction_error>thr]=1\n"
   ]
  },
  {
   "cell_type": "code",
   "execution_count": 243,
   "metadata": {},
   "outputs": [],
   "source": [
    "error_df1=error_df1.astype('int')"
   ]
  },
  {
   "cell_type": "code",
   "execution_count": 244,
   "metadata": {},
   "outputs": [
    {
     "data": {
      "text/plain": [
       "reconstruction_error    126\n",
       "dtype: int64"
      ]
     },
     "execution_count": 244,
     "metadata": {},
     "output_type": "execute_result"
    }
   ],
   "source": [
    "error_df1.sum()"
   ]
  },
  {
   "cell_type": "code",
   "execution_count": 444,
   "metadata": {},
   "outputs": [],
   "source": [
    "sub=pd.DataFrame()\n",
    "sub['loan_id']=TEST.loan_id\n",
    "sub['m13']=error_df1\n",
    "sub.to_csv(\"encoder.csv\",index=False)"
   ]
  }
 ],
 "metadata": {
  "kernelspec": {
   "display_name": "Python 2",
   "language": "python",
   "name": "python2"
  },
  "language_info": {
   "codemirror_mode": {
    "name": "ipython",
    "version": 2
   },
   "file_extension": ".py",
   "mimetype": "text/x-python",
   "name": "python",
   "nbconvert_exporter": "python",
   "pygments_lexer": "ipython2",
   "version": "2.7.15+"
  }
 },
 "nbformat": 4,
 "nbformat_minor": 2
}
